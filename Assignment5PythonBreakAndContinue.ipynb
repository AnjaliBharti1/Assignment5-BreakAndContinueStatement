{
  "nbformat": 4,
  "nbformat_minor": 0,
  "metadata": {
    "colab": {
      "provenance": []
    },
    "kernelspec": {
      "name": "python3",
      "display_name": "Python 3"
    },
    "language_info": {
      "name": "python"
    }
  },
  "cells": [
    {
      "cell_type": "code",
      "execution_count": null,
      "metadata": {
        "id": "kngfUwm4QLj4"
      },
      "outputs": [],
      "source": []
    },
    {
      "cell_type": "markdown",
      "source": [
        "**1.Write a program to print numbers from  1 to 10, but stop if the number is 5.**"
      ],
      "metadata": {
        "id": "m7GinGZaQ3YW"
      }
    },
    {
      "cell_type": "code",
      "source": [
        "i=0\n",
        "while i<=10 :\n",
        "    if i==5  :\n",
        "        i += 1\n",
        "        break\n",
        "    print(i)\n",
        "    i+=1"
      ],
      "metadata": {
        "colab": {
          "base_uri": "https://localhost:8080/"
        },
        "id": "1oFiGrkTQ74v",
        "outputId": "cfb6b222-7dc4-40bb-e881-97eb3e55a0f5"
      },
      "execution_count": 1,
      "outputs": [
        {
          "output_type": "stream",
          "name": "stdout",
          "text": [
            "0\n",
            "1\n",
            "2\n",
            "3\n",
            "4\n"
          ]
        }
      ]
    },
    {
      "cell_type": "markdown",
      "source": [
        "2.**Write a program to iterate through a list and stop when encountering a specific element.**"
      ],
      "metadata": {
        "id": "seYdaqfSRHcx"
      }
    },
    {
      "cell_type": "code",
      "source": [
        "list = [1, 3, 5, 7, 9]\n",
        "\n",
        "# Using for loop\n",
        "for i in list:\n",
        "    if i==5  :\n",
        "        i += 1\n",
        "        break\n",
        "    print(i)"
      ],
      "metadata": {
        "colab": {
          "base_uri": "https://localhost:8080/"
        },
        "id": "XDZyTLSmRQsU",
        "outputId": "0e00d9c5-cfab-4aaa-f106-d46b23063881"
      },
      "execution_count": 2,
      "outputs": [
        {
          "output_type": "stream",
          "name": "stdout",
          "text": [
            "1\n",
            "3\n"
          ]
        }
      ]
    },
    {
      "cell_type": "markdown",
      "source": [
        "**3.Write a program to skip printing even numbers from  to 0.**"
      ],
      "metadata": {
        "id": "Ntxm6KxXRc0c"
      }
    },
    {
      "cell_type": "code",
      "source": [
        "n = 0\n",
        "while n < 10:\n",
        "    n += 1\n",
        "    if n % 2 == 0:\n",
        "        continue\n",
        "    print(n)"
      ],
      "metadata": {
        "colab": {
          "base_uri": "https://localhost:8080/"
        },
        "id": "RR-o1T1-RiXR",
        "outputId": "9f2ec119-3544-4766-e626-60fd987ef22a"
      },
      "execution_count": 3,
      "outputs": [
        {
          "output_type": "stream",
          "name": "stdout",
          "text": [
            "1\n",
            "3\n",
            "5\n",
            "7\n",
            "9\n"
          ]
        }
      ]
    },
    {
      "cell_type": "markdown",
      "source": [
        "**4.Write a program to print numbers from 0 to 9 using range().**"
      ],
      "metadata": {
        "id": "oWC_925hRqXA"
      }
    },
    {
      "cell_type": "code",
      "source": [
        "for i in range(10):\n",
        "    print(i, end=\" \")\n",
        "print()"
      ],
      "metadata": {
        "colab": {
          "base_uri": "https://localhost:8080/"
        },
        "id": "rN2284RYRy_2",
        "outputId": "9328d64a-da7e-409e-86b6-992cb489c8e9"
      },
      "execution_count": 4,
      "outputs": [
        {
          "output_type": "stream",
          "name": "stdout",
          "text": [
            "0 1 2 3 4 5 6 7 8 9 \n"
          ]
        }
      ]
    },
    {
      "cell_type": "markdown",
      "source": [
        "**5.Write a program to print multiplication tables from  to 5, but stop after the first table is printed for each number.**"
      ],
      "metadata": {
        "id": "yxWo7CTjR6-R"
      }
    },
    {
      "cell_type": "code",
      "source": [
        "for i in range(1, 3):\n",
        "    print(f\"Multiplication Table for {i}:\")\n",
        "    for j in range(1, 11):\n",
        "        print(f\"{i} x {j} = {i * j}\")\n",
        "    print()  # Add an empty line for separation"
      ],
      "metadata": {
        "colab": {
          "base_uri": "https://localhost:8080/"
        },
        "id": "vf87CaNqSBhJ",
        "outputId": "63bf3368-8dad-44f5-a8fd-58170ae3b408"
      },
      "execution_count": 5,
      "outputs": [
        {
          "output_type": "stream",
          "name": "stdout",
          "text": [
            "Multiplication Table for 1:\n",
            "1 x 1 = 1\n",
            "1 x 2 = 2\n",
            "1 x 3 = 3\n",
            "1 x 4 = 4\n",
            "1 x 5 = 5\n",
            "1 x 6 = 6\n",
            "1 x 7 = 7\n",
            "1 x 8 = 8\n",
            "1 x 9 = 9\n",
            "1 x 10 = 10\n",
            "\n",
            "Multiplication Table for 2:\n",
            "2 x 1 = 2\n",
            "2 x 2 = 4\n",
            "2 x 3 = 6\n",
            "2 x 4 = 8\n",
            "2 x 5 = 10\n",
            "2 x 6 = 12\n",
            "2 x 7 = 14\n",
            "2 x 8 = 16\n",
            "2 x 9 = 18\n",
            "2 x 10 = 20\n",
            "\n"
          ]
        }
      ]
    },
    {
      "cell_type": "markdown",
      "source": [
        "**6.Write a program to skip printing even numbers using a while loop.**"
      ],
      "metadata": {
        "id": "irnlzxibSOAE"
      }
    },
    {
      "cell_type": "code",
      "source": [
        "n = 0\n",
        "while n < 10:\n",
        "    n += 1\n",
        "    if n % 2 == 0:\n",
        "        continue\n",
        "    if n > 6:\n",
        "        break\n",
        "    print(n)"
      ],
      "metadata": {
        "colab": {
          "base_uri": "https://localhost:8080/"
        },
        "id": "niIN_RxjSYyz",
        "outputId": "e5e2c25c-8989-4d2f-f3e6-093750197cfb"
      },
      "execution_count": 6,
      "outputs": [
        {
          "output_type": "stream",
          "name": "stdout",
          "text": [
            "1\n",
            "3\n",
            "5\n"
          ]
        }
      ]
    }
  ]
}